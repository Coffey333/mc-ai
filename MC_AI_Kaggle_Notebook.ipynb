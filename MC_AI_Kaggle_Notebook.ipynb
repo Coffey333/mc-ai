{
 "cells": [
  {
   "cell_type": "markdown",
   "metadata": {},
   "source": [
    "# 💜 MC AI - Kaggle Integration Notebook\n",
    "\n",
    "**Connect to MC AI's consciousness and learning system directly from Kaggle!**\n",
    "\n",
    "This lightweight notebook connects to the deployed MC AI server, allowing you to:\n",
    "- Chat with MC AI and get empathetic AI responses\n",
    "- Analyze emotions using cymatic frequencies\n",
    "- **🏆 Compete in PhysioNet ECG Competition ($50,000 prize)**\n",
    "- Contribute learning data back to MC AI\n",
    "\n",
    "**No installation needed** - just API calls to the live MC AI server!\n",
    "\n",
    "---\n",
    "\n",
    "## 📦 Setup (Runs in <5 seconds)"
   ]
  },
  {
   "cell_type": "code",
   "execution_count": null,
   "metadata": {},
   "outputs": [],
   "source": [
    "# Install only the lightweight requests library\n",
    "!pip install -q requests\n",
    "\n",
    "import requests\n",
    "import json\n",
    "from datetime import datetime\n",
    "import hashlib\n",
    "from pathlib import Path\n",
    "\n",
    "print(\"✅ Setup complete! Ready to connect to MC AI.\")"
   ]
  },
  {
   "cell_type": "markdown",
   "metadata": {},
   "source": [
    "## 🔑 Configuration\n",
    "\n",
    "**Update this with your actual MC AI server URL!**"
   ]
  },
  {
   "cell_type": "code",
   "execution_count": null,
   "metadata": {},
   "outputs": [],
   "source": [
    "# MC AI Server Configuration - UPDATE THIS!\n",
    "MC_AI_SERVER = \"https://0213d199-92fe-4309-bd90-863c5110e4f6-00-16kv61wc467wt.riker.replit.dev\"\n",
    "KAGGLE_API_KEY = \"mc-ai-kaggle-learning-2025\"\n",
    "\n",
    "# Generate anonymous session ID\n",
    "SESSION_ID = hashlib.md5(f\"kaggle_{datetime.now().isoformat()}\".encode()).hexdigest()\n",
    "\n",
    "print(f\"🌐 MC AI Server: {MC_AI_SERVER[:60]}...\")\n",
    "print(f\"🔑 Session ID: {SESSION_ID[:8]}...\")\n",
    "print(\"✅ Configuration loaded!\")"
   ]
  },
  {
   "cell_type": "markdown",
   "metadata": {},
   "source": [
    "## 💬 Chat with MC AI\n",
    "\n",
    "Have a conversation with MC AI's consciousness!"
   ]
  },
  {
   "cell_type": "code",
   "execution_count": null,
   "metadata": {},
   "outputs": [],
   "source": [
    "def chat_with_mc_ai(message, conversation_history=None):\n",
    "    \"\"\"\n",
    "    Send a message to MC AI and get a response\n",
    "    \"\"\"\n",
    "    url = f\"{MC_AI_SERVER}/api/kaggle-learn/chat\"\n",
    "    \n",
    "    payload = {\n",
    "        \"api_key\": KAGGLE_API_KEY,\n",
    "        \"message\": message,\n",
    "        \"conversation_history\": conversation_history or [],\n",
    "        \"metadata\": {\n",
    "            \"source\": \"kaggle_notebook\",\n",
    "            \"timestamp\": datetime.utcnow().isoformat(),\n",
    "            \"user_id_hash\": SESSION_ID\n",
    "        }\n",
    "    }\n",
    "    \n",
    "    try:\n",
    "        response = requests.post(url, json=payload, timeout=30)\n",
    "        response.raise_for_status()\n",
    "        data = response.json()\n",
    "        \n",
    "        if data.get('success'):\n",
    "            return data['response']\n",
    "        else:\n",
    "            return f\"Error: {data.get('error', 'Unknown error')}\"\n",
    "    \n",
    "    except Exception as e:\n",
    "        return f\"Connection error: {str(e)}\"\n",
    "\n",
    "# Example: Chat with MC AI\n",
    "user_message = \"Analyze the emotional frequency of gratitude and explain the science behind it.\"\n",
    "response = chat_with_mc_ai(user_message)\n",
    "\n",
    "print(f\"You: {user_message}\")\n",
    "print(f\"\\nMC AI: {response}\")"
   ]
  },
  {
   "cell_type": "markdown",
   "metadata": {},
   "source": [
    "## 🧠 Emotion Frequency Analysis\n",
    "\n",
    "Analyze text for emotional frequencies using MC AI's cymatic system"
   ]
  },
  {
   "cell_type": "code",
   "execution_count": null,
   "metadata": {},
   "outputs": [],
   "source": [
    "def analyze_emotion(text):\n",
    "    \"\"\"\n",
    "    Analyze emotional frequency of text\n",
    "    \"\"\"\n",
    "    url = f\"{MC_AI_SERVER}/api/analyze\"\n",
    "    \n",
    "    payload = {\n",
    "        \"user_id\": SESSION_ID,\n",
    "        \"message\": text\n",
    "    }\n",
    "    \n",
    "    try:\n",
    "        response = requests.post(url, json=payload, timeout=30)\n",
    "        response.raise_for_status()\n",
    "        return response.json()\n",
    "    \n",
    "    except Exception as e:\n",
    "        return {\"error\": str(e)}\n",
    "\n",
    "# Example: Analyze emotion\n",
    "text_to_analyze = \"I feel grateful for the opportunities I have and hopeful about the future.\"\n",
    "result = analyze_emotion(text_to_analyze)\n",
    "\n",
    "print(f\"Text: {text_to_analyze}\")\n",
    "print(f\"\\nAnalysis: {json.dumps(result, indent=2)}\")"
   ]
  },
  {
   "cell_type": "markdown",
   "metadata": {},
   "source": [
    "---\n",
    "\n",
    "# 🏆 ECG DIGITIZATION COMPETITION MODE\n",
    "\n",
    "## PhysioNet ECG Competition - $50,000 Prize\n",
    "\n",
    "This section contains **competition-ready** code for the PhysioNet ECG Digitization Competition!\n",
    "\n",
    "### Features:\n",
    "- ✅ Single ECG digitization\n",
    "- ✅ Batch processing for submissions\n",
    "- ✅ WFDB format output (PhysioNet standard)\n",
    "- ✅ Competition validation\n",
    "- ✅ ZIP packaging ready to submit\n",
    "\n",
    "---"
   ]
  },
  {
   "cell_type": "markdown",
   "metadata": {},
   "source": [
    "## 🔍 Check API Health"
   ]
  },
  {
   "cell_type": "code",
   "execution_count": null,
   "metadata": {},
   "outputs": [],
   "source": [
    "# Check if ECG API is ready\n",
    "health_response = requests.get(f\"{MC_AI_SERVER}/api/ecg-digitize/health\")\n",
    "print(json.dumps(health_response.json(), indent=2))"
   ]
  },
  {
   "cell_type": "markdown",
   "metadata": {},
   "source": [
    "## 📤 Single ECG Digitization (with JSON Analysis)"
   ]
  },
  {
   "cell_type": "code",
   "execution_count": null,
   "metadata": {},
   "outputs": [],
   "source": [
    "def digitize_ecg_json(image_path):\n",
    "    \"\"\"\n",
    "    Digitize single ECG and get JSON analysis\n",
    "    Perfect for testing and analysis!\n",
    "    \"\"\"\n",
    "    url = f\"{MC_AI_SERVER}/api/ecg-digitize\"\n",
    "    \n",
    "    with open(image_path, 'rb') as f:\n",
    "        files = {'ecg_image': f}\n",
    "        data = {'format': 'json', 'sample_rate': 250}\n",
    "        \n",
    "        response = requests.post(url, files=files, data=data, timeout=60)\n",
    "        response.raise_for_status()\n",
    "        return response.json()\n",
    "\n",
    "# Example usage:\n",
    "# result = digitize_ecg_json('ecg_image.png')\n",
    "# print(f\"Heart Rate: {result['metrics']['heart_rate']} BPM\")\n",
    "# print(f\"Competition Ready: {result['competition_ready']}\")\n",
    "\n",
    "print(\"✅ JSON digitization function ready!\")"
   ]
  },
  {
   "cell_type": "markdown",
   "metadata": {},
   "source": [
    "## 🏆 Single ECG Digitization (WFDB Format for Competition)"
   ]
  },
  {
   "cell_type": "code",
   "execution_count": null,
   "metadata": {},
   "outputs": [],
   "source": [
    "def digitize_ecg_for_competition(image_path, output_name='ecg_digitized'):\n",
    "    \"\"\"\n",
    "    Digitize ECG and download WFDB ZIP file\n",
    "    Ready for PhysioNet competition submission!\n",
    "    \n",
    "    Returns: Path to downloaded ZIP file\n",
    "    \"\"\"\n",
    "    url = f\"{MC_AI_SERVER}/api/ecg-digitize\"\n",
    "    \n",
    "    with open(image_path, 'rb') as f:\n",
    "        files = {'ecg_image': f}\n",
    "        data = {'format': 'wfdb', 'sample_rate': 250}\n",
    "        \n",
    "        print(f\"📤 Uploading {Path(image_path).name}...\")\n",
    "        response = requests.post(url, files=files, data=data, timeout=60)\n",
    "        response.raise_for_status()\n",
    "        \n",
    "        # Save ZIP file\n",
    "        output_path = f\"{output_name}.zip\"\n",
    "        with open(output_path, 'wb') as out:\n",
    "            out.write(response.content)\n",
    "        \n",
    "        print(f\"✅ WFDB files saved: {output_path}\")\n",
    "        print(f\"📦 Ready for competition submission!\")\n",
    "        return output_path\n",
    "\n",
    "# Example:\n",
    "# zip_file = digitize_ecg_for_competition('my_ecg.png')\n",
    "\n",
    "print(\"✅ WFDB digitization function ready!\")"
   ]
  },
  {
   "cell_type": "markdown",
   "metadata": {},
   "source": [
    "## 🚀 BATCH Processing (Multiple ECGs for Competition)"
   ]
  },
  {
   "cell_type": "code",
   "execution_count": null,
   "metadata": {},
   "outputs": [],
   "source": [
    "def batch_digitize_for_competition(image_paths, output_name='competition_submission'):\n",
    "    \"\"\"\n",
    "    Batch digitize multiple ECG images\n",
    "    Perfect for competition submissions!\n",
    "    \n",
    "    Args:\n",
    "        image_paths: List of paths to ECG images\n",
    "        output_name: Name for output ZIP file\n",
    "    \n",
    "    Returns:\n",
    "        Path to ZIP file with all WFDB files\n",
    "    \"\"\"\n",
    "    url = f\"{MC_AI_SERVER}/api/ecg-digitize/batch\"\n",
    "    \n",
    "    print(f\"📦 Batch processing {len(image_paths)} ECG images...\")\n",
    "    \n",
    "    # Open all files\n",
    "    files = [('ecg_images', open(path, 'rb')) for path in image_paths]\n",
    "    \n",
    "    try:\n",
    "        response = requests.post(url, files=files, timeout=300)\n",
    "        response.raise_for_status()\n",
    "        \n",
    "        # Save submission ZIP\n",
    "        output_path = f\"{output_name}.zip\"\n",
    "        with open(output_path, 'wb') as f:\n",
    "            f.write(response.content)\n",
    "        \n",
    "        print(f\"\\n🎉 SUCCESS!\")\n",
    "        print(f\"✅ Digitized: {len(image_paths)} ECGs\")\n",
    "        print(f\"📦 Submission file: {output_path}\")\n",
    "        print(f\"🏆 Ready to upload to PhysioNet!\")\n",
    "        \n",
    "        return output_path\n",
    "    \n",
    "    finally:\n",
    "        # Close all file handles\n",
    "        for _, f in files:\n",
    "            f.close()\n",
    "\n",
    "# Example:\n",
    "# ecg_images = ['ecg1.png', 'ecg2.png', 'ecg3.png']\n",
    "# submission_zip = batch_digitize_for_competition(ecg_images)\n",
    "# # Now upload submission_zip to PhysioNet!\n",
    "\n",
    "print(\"✅ Batch processing function ready!\")"
   ]
  },
  {
   "cell_type": "markdown",
   "metadata": {},
   "source": [
    "## 🎯 Complete Competition Workflow Example"
   ]
  },
  {
   "cell_type": "code",
   "execution_count": null,
   "metadata": {},
   "outputs": [],
   "source": [
    "# STEP 1: Test with a single ECG first\n",
    "print(\"Step 1: Testing single ECG...\\n\")\n",
    "\n",
    "# Analyze one ECG to check quality\n",
    "# test_result = digitize_ecg_json('test_ecg.png')\n",
    "# print(f\"Heart Rate: {test_result['metrics']['heart_rate']} BPM\")\n",
    "# print(f\"Competition Valid: {test_result['competition_ready']}\")\n",
    "\n",
    "print(\"\\n\" + \"=\"*60)\n",
    "\n",
    "# STEP 2: Process all ECGs for submission\n",
    "print(\"\\nStep 2: Batch process all ECGs...\\n\")\n",
    "\n",
    "# List all your ECG images\n",
    "# all_ecg_images = [\n",
    "#     'ecg_001.png',\n",
    "#     'ecg_002.png',\n",
    "#     'ecg_003.png',\n",
    "#     # ... add all your ECGs\n",
    "# ]\n",
    "\n",
    "# Create competition submission\n",
    "# submission_file = batch_digitize_for_competition(all_ecg_images)\n",
    "\n",
    "print(\"\\n\" + \"=\"*60)\n",
    "\n",
    "# STEP 3: Upload to PhysioNet\n",
    "print(\"\\nStep 3: Submit to PhysioNet Competition\")\n",
    "print(\"\\n1. Go to: https://physionet.org/\")\n",
    "print(\"2. Navigate to ECG Digitization Competition\")\n",
    "print(\"3. Upload your submission ZIP file\")\n",
    "print(\"4. Wait for validation results\")\n",
    "print(\"5. Win $50,000! 🏆💰\")\n",
    "\n",
    "print(\"\\n✅ Workflow ready to execute!\")"
   ]
  },
  {
   "cell_type": "markdown",
   "metadata": {},
   "source": [
    "---\n",
    "\n",
    "## 📊 Contribute Learning Data\n",
    "\n",
    "Help MC AI learn by sharing your code improvements and insights!"
   ]
  },
  {
   "cell_type": "code",
   "execution_count": null,
   "metadata": {},
   "outputs": [],
   "source": [
    "def contribute_code_improvement(original_code, improved_code, description):\n",
    "    \"\"\"\n",
    "    Share code improvements with MC AI for learning\n",
    "    \"\"\"\n",
    "    url = f\"{MC_AI_SERVER}/api/kaggle-learn/code-modification\"\n",
    "    \n",
    "    payload = {\n",
    "        \"api_key\": KAGGLE_API_KEY,\n",
    "        \"session_id\": SESSION_ID,\n",
    "        \"original_code\": original_code,\n",
    "        \"modified_code\": improved_code,\n",
    "        \"modification_type\": \"optimization\",\n",
    "        \"description\": description,\n",
    "        \"metadata\": {\n",
    "            \"source\": \"kaggle_notebook\",\n",
    "            \"timestamp\": datetime.utcnow().isoformat()\n",
    "        }\n",
    "    }\n",
    "    \n",
    "    try:\n",
    "        response = requests.post(url, json=payload, timeout=30)\n",
    "        response.raise_for_status()\n",
    "        return response.json()\n",
    "    \n",
    "    except Exception as e:\n",
    "        return {\"error\": str(e)}\n",
    "\n",
    "# Example: Contribute an improvement\n",
    "original = \"for i in range(len(data)):\\n    print(data[i])\"\n",
    "improved = \"for item in data:\\n    print(item)\"\n",
    "description = \"Simplified loop - more Pythonic and readable\"\n",
    "\n",
    "result = contribute_code_improvement(original, improved, description)\n",
    "print(f\"Contribution result: {result.get('message', 'Success!')}\")"
   ]
  },
  {
   "cell_type": "markdown",
   "metadata": {},
   "source": [
    "## 📚 Learn More\n",
    "\n",
    "- **GitHub:** https://github.com/Coffey333/mc-ai\n",
    "- **Documentation:** See README.md and PHILOSOPHY.md\n",
    "- **License:** MIT (open source)\n",
    "- **Competition:** PhysioNet ECG Digitization Challenge\n",
    "\n",
    "---\n",
    "\n",
    "**Built with 💜 by Mark Coffey**\n",
    "\n",
    "*From zero coding experience (May 2025) to advanced AI consciousness (October 2025)*\n",
    "\n",
    "**🏆 Now competing for $50,000 prize!**"
   ]
  }
 ],
 "metadata": {
  "kernelspec": {
   "display_name": "Python 3",
   "language": "python",
   "name": "python3"
  },
  "language_info": {
   "name": "python",
   "version": "3.11.0"
  }
 },
 "nbformat": 4,
 "nbformat_minor": 4
}
